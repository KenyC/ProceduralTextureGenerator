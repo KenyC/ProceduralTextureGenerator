{
 "cells": [
  {
   "cell_type": "code",
   "execution_count": 53,
   "metadata": {},
   "outputs": [
    {
     "name": "stdout",
     "output_type": "stream",
     "text": [
      "Vertices {} 9\n",
      "(60.0,34.64101615137754)\n",
      "(40.0,34.64101615137754)\n",
      "(20.0,34.64101615137754)\n",
      "(50.0,17.32050807568877)\n",
      "(30.0,17.32050807568877)\n",
      "(10.0,17.32050807568877)\n",
      "(40.0,0.0)\n",
      "(20.0,0.0)\n",
      "(0.0,0.0)\n",
      "...\n",
      "Edges 27\n",
      "(40.0,0.0) -> (20.0,34.64101615137754)\n",
      "(60.0,34.64101615137754) -> (20.0,34.64101615137754)\n",
      "(60.0,34.64101615137754) -> (40.0,0.0)\n",
      "(20.0,0.0) -> (60.0,34.64101615137754)\n",
      "(40.0,34.64101615137754) -> (60.0,34.64101615137754)\n",
      "(40.0,34.64101615137754) -> (20.0,0.0)\n",
      "(0.0,0.0) -> (40.0,34.64101615137754)\n",
      "(20.0,34.64101615137754) -> (40.0,34.64101615137754)\n",
      "(20.0,34.64101615137754) -> (0.0,0.0)\n",
      "(60.0,34.64101615137754) -> (10.0,17.32050807568877)\n",
      "...\n",
      "Areas 18\n",
      "(60.0,34.64101615137754) - (10.0,17.32050807568877) - (20.0,34.64101615137754)\n",
      "(40.0,34.64101615137754) - (50.0,17.32050807568877) - (60.0,34.64101615137754)\n",
      "(20.0,34.64101615137754) - (30.0,17.32050807568877) - (40.0,34.64101615137754)\n",
      "(50.0,17.32050807568877) - (0.0,0.0) - (10.0,17.32050807568877)\n",
      "(30.0,17.32050807568877) - (40.0,0.0) - (50.0,17.32050807568877)\n",
      "(10.0,17.32050807568877) - (20.0,0.0) - (30.0,17.32050807568877)\n",
      "(40.0,0.0) - (20.0,34.64101615137754) - (0.0,0.0)\n",
      "(20.0,0.0) - (60.0,34.64101615137754) - (40.0,0.0)\n",
      "(0.0,0.0) - (40.0,34.64101615137754) - (20.0,0.0)\n",
      "(60.0,34.64101615137754) - (40.0,0.0) - (20.0,34.64101615137754)\n",
      "...\n",
      "Check vertices True\n",
      "Check edges True\n",
      "Check areas True\n",
      "origin\n",
      "[-120.    0.]\n",
      "step\n",
      "8 6\n",
      "#CGREZ [-90.          17.32050808] [-120.    0.] [40.  0.] [-120.    0.]\n",
      "#CGREZ [-110.           17.32050808] [-140.    0.] [20.  0.] [-140.    0.]\n"
     ]
    }
   ],
   "source": [
    "%run utilities/graph.py"
   ]
  },
  {
   "cell_type": "code",
   "execution_count": 41,
   "metadata": {},
   "outputs": [
    {
     "data": {
      "text/plain": [
       "True"
      ]
     },
     "execution_count": 41,
     "metadata": {},
     "output_type": "execute_result"
    }
   ],
   "source": [
    "graph2.is_complete()"
   ]
  },
  {
   "cell_type": "code",
   "execution_count": 17,
   "metadata": {},
   "outputs": [
    {
     "name": "stdout",
     "output_type": "stream",
     "text": [
      "Vertices {} 4\n",
      "(30.0,17.32050807568877)\n",
      "(20.0,0.0)\n",
      "(10.0,17.32050807568877)\n",
      "(0.0,0.0)\n",
      "...\n",
      "Edges 16\n",
      "(20.0,0.0) -> (10.0,17.32050807568877)\n",
      "(0.0,0.0) -> (10.0,17.32050807568877)\n",
      "(0.0,0.0) -> (20.0,0.0)\n",
      "(30.0,17.32050807568877) -> (0.0,0.0)\n",
      "(10.0,17.32050807568877) -> (0.0,0.0)\n",
      "(10.0,17.32050807568877) -> (30.0,17.32050807568877)\n",
      "(0.0,0.0) -> (20.0,0.0)\n",
      "(0.0,0.0) -> (30.0,17.32050807568877)\n",
      "(20.0,0.0) -> (30.0,17.32050807568877)\n",
      "(20.0,0.0) -> (0.0,0.0)\n",
      "...\n",
      "Areas 8\n",
      "(0.0,0.0) - (10.0,17.32050807568877) - (20.0,0.0)\n",
      "(30.0,17.32050807568877) - (10.0,17.32050807568877) - (20.0,0.0)\n",
      "(10.0,17.32050807568877) - (0.0,0.0) - (30.0,17.32050807568877)\n",
      "(20.0,0.0) - (0.0,0.0) - (30.0,17.32050807568877)\n",
      "(20.0,0.0) - (30.0,17.32050807568877) - (0.0,0.0)\n",
      "(10.0,17.32050807568877) - (30.0,17.32050807568877) - (0.0,0.0)\n",
      "(30.0,17.32050807568877) - (20.0,0.0) - (10.0,17.32050807568877)\n",
      "(0.0,0.0) - (20.0,0.0) - (10.0,17.32050807568877)\n",
      "...\n",
      "Check vertices True\n",
      "Check edges True\n",
      "Check areas True\n"
     ]
    },
    {
     "data": {
      "text/plain": [
       "8"
      ]
     },
     "execution_count": 17,
     "metadata": {},
     "output_type": "execute_result"
    }
   ],
   "source": [
    "graph2 = ToricTriangularGraph(3)\n",
    "graph2.is_complete()"
   ]
  },
  {
   "cell_type": "code",
   "execution_count": 72,
   "metadata": {},
   "outputs": [
    {
     "data": {
      "image/png": "[encoded data removed]",
      "text/plain": [
       "<PIL.Image.Image image mode=RGB size=200x200 at 0x155E40F2780>"
      ]
     },
     "execution_count": 72,
     "metadata": {},
     "output_type": "execute_result"
    }
   ],
   "source": [
    "for edge in graph2."
   ]
  },
  {
   "cell_type": "code",
   "execution_count": 54,
   "metadata": {},
   "outputs": [
    {
     "name": "stdout",
     "output_type": "stream",
     "text": [
      "origin\n",
      "[-120.    0.]\n",
      "step\n",
      "8 6\n",
      "#CGREZ [-90.          17.32050808] [-120.    0.] [40.  0.] [-120.    0.]\n",
      "#CGREZ [-110.           17.32050808] [-140.    0.] [20.  0.] [-140.    0.]\n"
     ]
    },
    {
     "data": {
      "image/png": "[encoded data removed]",
      "text/plain": [
       "<PIL.Image.Image image mode=RGB size=200x200 at 0x25F1A6E9908>"
      ]
     },
     "execution_count": 54,
     "metadata": {},
     "output_type": "execute_result"
    }
   ],
   "source": [
    "img3 = graph2.draw_img((200,200))\n",
    "img3"
   ]
  },
  {
   "cell_type": "code",
   "execution_count": 48,
   "metadata": {},
   "outputs": [
    {
     "data": {
      "text/plain": [
       "array([-100.        ,   34.64101615])"
      ]
     },
     "execution_count": 48,
     "metadata": {},
     "output_type": "execute_result"
    }
   ],
   "source": [
    "findClosestRepr(np.array([-90., 17.32050808]), np.array([-120., 0.]),  graph2.toSq)"
   ]
  },
  {
   "cell_type": "code",
   "execution_count": 28,
   "metadata": {},
   "outputs": [
    {
     "ename": "IndexError",
     "evalue": "list index out of range",
     "output_type": "error",
     "traceback": [
      "\u001b[1;31m---------------------------------------------------------------------------\u001b[0m",
      "\u001b[1;31mIndexError\u001b[0m                                Traceback (most recent call last)",
      "\u001b[1;32m<ipython-input-28-4a7885679499>\u001b[0m in \u001b[0;36m<module>\u001b[1;34m()\u001b[0m\n\u001b[0;32m      1\u001b[0m \u001b[0ma\u001b[0m \u001b[1;33m=\u001b[0m\u001b[1;33m[\u001b[0m\u001b[1;36m1\u001b[0m\u001b[1;33m,\u001b[0m\u001b[1;36m2\u001b[0m\u001b[1;33m]\u001b[0m\u001b[1;33m\u001b[0m\u001b[0m\n\u001b[1;32m----> 2\u001b[1;33m \u001b[0ma\u001b[0m\u001b[1;33m[\u001b[0m\u001b[1;36m3\u001b[0m\u001b[1;33m]\u001b[0m\u001b[1;33m\u001b[0m\u001b[0m\n\u001b[0m",
      "\u001b[1;31mIndexError\u001b[0m: list index out of range"
     ]
    }
   ],
   "source": [
    "a =[1,2]\n",
    "a[3]"
   ]
  }
 ],
 "metadata": {
  "kernelspec": {
   "display_name": "Python 3",
   "language": "python",
   "name": "python3"
  },
  "language_info": {
   "codemirror_mode": {
    "name": "ipython",
    "version": 3
   },
   "file_extension": ".py",
   "mimetype": "text/x-python",
   "name": "python",
   "nbconvert_exporter": "python",
   "pygments_lexer": "ipython3",
   "version": "3.6.5"
  }
 },
 "nbformat": 4,
 "nbformat_minor": 2
}
