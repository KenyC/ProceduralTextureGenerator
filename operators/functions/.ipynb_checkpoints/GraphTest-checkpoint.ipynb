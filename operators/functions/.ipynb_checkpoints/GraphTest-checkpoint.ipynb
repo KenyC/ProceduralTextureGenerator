{
 "cells": [
  {
   "cell_type": "code",
   "execution_count": 208,
   "metadata": {},
   "outputs": [
    {
     "name": "stdout",
     "output_type": "stream",
     "text": [
      "Vertices {} 25\n",
      "Edges 75\n",
      "Areas 50\n",
      "Check vertices True\n",
      "Check edges True\n",
      "Check areas True\n",
      "origin\n",
      "[-150.    0.]\n",
      "step\n",
      "7 5\n"
     ]
    }
   ],
   "source": [
    "%run utilities/graph.py"
   ]
  },
  {
   "cell_type": "code",
   "execution_count": 15,
   "metadata": {},
   "outputs": [
    {
     "name": "stdout",
     "output_type": "stream",
     "text": [
      "True\n"
     ]
    }
   ],
   "source": [
    "print(graph2.is_complete())"
   ]
  },
  {
   "cell_type": "code",
   "execution_count": 179,
   "metadata": {},
   "outputs": [
    {
     "name": "stdout",
     "output_type": "stream",
     "text": [
      "Vertices {} 25\n",
      "Edges 75\n",
      "Areas 50\n",
      "Check vertices True\n",
      "Check edges True\n",
      "Check areas True\n",
      "origin\n",
      "[-150.    0.]\n",
      "step\n",
      "7 5\n",
      "(30.0,0.0) -> (40.0,0.0)\n",
      "(25.0,25.98076211353316) -> (35.0,25.98076211353316)\n",
      "(20.0,34.64101615137754) -> (30.0,34.64101615137754)\n",
      "(10.0,0.0) -> (40.0,34.64101615137754)\n",
      "(60.0,34.64101615137754) -> (20.0,34.64101615137754)\n",
      "(40.0,0.0) -> (20.0,34.64101615137754)\n",
      "(55.0,25.98076211353316) -> (15.0,25.98076211353316)\n",
      "(35.0,8.660254037844386) -> (40.0,0.0)\n",
      "(10.0,17.32050807568877) -> (15.0,8.660254037844386)\n",
      "(35.0,25.98076211353316) -> (40.0,34.64101615137754)\n",
      "(30.0,34.64101615137754) -> (35.0,25.98076211353316)\n",
      "(50.0,34.64101615137754) -> (55.0,25.98076211353316)\n",
      "(40.0,0.0) -> (15.0,25.98076211353316)\n",
      "(30.0,17.32050807568877) -> (35.0,8.660254037844386)\n",
      "(15.0,25.98076211353316) -> (25.0,25.98076211353316)\n",
      "(15.0,25.98076211353316) -> (20.0,34.64101615137754)\n",
      "(15.0,8.660254037844386) -> (20.0,0.0)\n",
      "(45.0,8.660254037844386) -> (50.0,17.32050807568877)\n",
      "(5.0,8.660254037844386) -> (10.0,0.0)\n",
      "(10.0,0.0) -> (15.0,8.660254037844386)\n",
      "(0.0,0.0) -> (15.0,25.98076211353316)\n",
      "(35.0,8.660254037844386) -> (45.0,8.660254037844386)\n",
      "(45.0,25.98076211353316) -> (60.0,34.64101615137754)\n",
      "(45.0,8.660254037844386) -> (60.0,34.64101615137754)\n",
      "(0.0,0.0) -> (15.0,8.660254037844386)\n",
      "(55.0,25.98076211353316) -> (60.0,34.64101615137754)\n",
      "(50.0,17.32050807568877) -> (10.0,17.32050807568877)\n",
      "(45.0,25.98076211353316) -> (50.0,17.32050807568877)\n",
      "(20.0,0.0) -> (50.0,34.64101615137754)\n",
      "(45.0,8.660254037844386) -> (5.0,8.660254037844386)\n",
      "origin\n",
      "[-150.    0.]\n",
      "step\n",
      "7 5\n"
     ]
    },
    {
     "data": {
      "image/png": "[encoded data removed]",
      "text/plain": [
       "<PIL.Image.Image image mode=RGB size=200x200 at 0x25F14ECDD68>"
      ]
     },
     "execution_count": 179,
     "metadata": {},
     "output_type": "execute_result"
    }
   ],
   "source": [
    "%run utilities/graph.py\n",
    "graph2.rotateRandom(30)\n",
    "img = graph2.draw_img((200,200))\n",
    "img"
   ]
  },
  {
   "cell_type": "code",
   "execution_count": 8,
   "metadata": {},
   "outputs": [
    {
     "name": "stdout",
     "output_type": "stream",
     "text": [
      "Vertices {} 25\n",
      "Edges 75\n",
      "Areas 50\n",
      "Check vertices True\n",
      "Check edges True\n",
      "Check areas True\n",
      "1 Mystery edge (120.0,120.0) -> (0.0,120.0) v1 [120. 120.] v2 [150. 120.]\n",
      "2 Mystery edge (120.0,120.0) -> (120.0,0.0) v1 [120. 120.] v2 [120. 150.]\n",
      "3 Mystery edge (90.0,0.0) -> (120.0,120.0) v1 [90.  0.] v2 [120. -30.]\n",
      "13 Mystery edge (0.0,120.0) -> (30.0,120.0) v1 [  0. 120.] v2 [ 30. 120.]\n",
      "14 Mystery edge (0.0,120.0) -> (0.0,0.0) v1 [  0. 120.] v2 [  0. 150.]\n",
      "15 Mystery edge (120.0,120.0) -> (0.0,90.0) v1 [120. 120.] v2 [150.  90.]\n",
      "count 75\n",
      "(120.0,120.0) -> (0.0,120.0)\n",
      "1 Mystery edge (120.0,0.0) -> (0.0,90.0) v1 [120.   0.] v2 [150. -60.]\n",
      "2 Mystery edge (120.0,120.0) -> (120.0,0.0) v1 [120. 120.] v2 [120. 150.]\n",
      "3 Mystery edge (90.0,0.0) -> (120.0,120.0) v1 [90.  0.] v2 [120. -30.]\n",
      "13 Mystery edge (0.0,120.0) -> (30.0,120.0) v1 [  0. 120.] v2 [ 30. 120.]\n",
      "14 Mystery edge (0.0,120.0) -> (0.0,0.0) v1 [  0. 120.] v2 [  0. 150.]\n",
      "15 Mystery edge (120.0,120.0) -> (0.0,90.0) v1 [120. 120.] v2 [150.  90.]\n",
      "count 75\n"
     ]
    }
   ],
   "source": [
    "%run utilities/squareGraph.py\n",
    "img = sqGraph.draw((200,200), center = (-20, -20))\n",
    "sqGraph.edges[2].value.rotate()\n",
    "img1 = sqGraph.draw((200,200), center = (-20, -20))\n",
    "\n"
   ]
  },
  {
   "cell_type": "code",
   "execution_count": 10,
   "metadata": {},
   "outputs": [
    {
     "data": {
      "image/png": "[encoded data removed]",
      "text/plain": [
       "<PIL.Image.Image image mode=RGB size=200x200 at 0x2A4A9E5A390>"
      ]
     },
     "execution_count": 10,
     "metadata": {},
     "output_type": "execute_result"
    }
   ],
   "source": [
    "img[74]"
   ]
  },
  {
   "cell_type": "code",
   "execution_count": 12,
   "metadata": {},
   "outputs": [
    {
     "data": {
      "image/png": "[encoded data removed]",
      "text/plain": [
       "<PIL.Image.Image image mode=RGB size=200x200 at 0x2A4A9E5AB38>"
      ]
     },
     "execution_count": 12,
     "metadata": {},
     "output_type": "execute_result"
    }
   ],
   "source": [
    "img1[74]"
   ]
  },
  {
   "cell_type": "code",
   "execution_count": 3,
   "metadata": {},
   "outputs": [
    {
     "data": {
      "text/plain": [
       "100"
      ]
     },
     "execution_count": 3,
     "metadata": {},
     "output_type": "execute_result"
    }
   ],
   "source": [
    "len(sqGraph.edges)\n",
    "    "
   ]
  },
  {
   "cell_type": "code",
   "execution_count": null,
   "metadata": {},
   "outputs": [],
   "source": [
    "findClosestRepr(testV1 + 1e-8, testV2, sq)"
   ]
  },
  {
   "cell_type": "code",
   "execution_count": null,
   "metadata": {},
   "outputs": [],
   "source": [
    "testV1 == testV1"
   ]
  },
  {
   "cell_type": "code",
   "execution_count": null,
   "metadata": {},
   "outputs": [],
   "source": [
    "graph2.toSq"
   ]
  },
  {
   "cell_type": "code",
   "execution_count": 9,
   "metadata": {},
   "outputs": [
    {
     "data": {
      "text/plain": [
       "(1, 2, 3, 4)"
      ]
     },
     "execution_count": 9,
     "metadata": {},
     "output_type": "execute_result"
    }
   ],
   "source": [
    "(1,2) +(3,4)"
   ]
  },
  {
   "cell_type": "code",
   "execution_count": null,
   "metadata": {},
   "outputs": [],
   "source": [
    "class A:\n",
    "    def __init__(self, value):\n",
    "        self.value = value\n",
    "        \n",
    "a = A(56)\n",
    "b = A(35)\n",
    "l = [a, b]\n",
    "del l[0]\n",
    "print(a.value)"
   ]
  }
 ],
 "metadata": {
  "kernelspec": {
   "display_name": "Python 3",
   "language": "python",
   "name": "python3"
  },
  "language_info": {
   "codemirror_mode": {
    "name": "ipython",
    "version": 3
   },
   "file_extension": ".py",
   "mimetype": "text/x-python",
   "name": "python",
   "nbconvert_exporter": "python",
   "pygments_lexer": "ipython3",
   "version": "3.6.5"
  }
 },
 "nbformat": 4,
 "nbformat_minor": 2
}
