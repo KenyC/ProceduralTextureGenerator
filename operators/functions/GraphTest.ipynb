{
 "cells": [
  {
   "cell_type": "code",
   "execution_count": 45,
   "metadata": {},
   "outputs": [
    {
     "name": "stdout",
     "output_type": "stream",
     "text": [
      "Vertices {} 9\n",
      "(60.0,34.64101615137754)\n",
      "(40.0,34.64101615137754)\n",
      "(20.0,34.64101615137754)\n",
      "(50.0,17.32050807568877)\n",
      "(30.0,17.32050807568877)\n",
      "(10.0,17.32050807568877)\n",
      "(40.0,0.0)\n",
      "(20.0,0.0)\n",
      "(0.0,0.0)\n",
      "...\n",
      "Edges 27\n",
      "(40.0,0.0) -> (20.0,34.64101615137754)\n",
      "(60.0,34.64101615137754) -> (20.0,34.64101615137754)\n",
      "(60.0,34.64101615137754) -> (40.0,0.0)\n",
      "(20.0,0.0) -> (60.0,34.64101615137754)\n",
      "(40.0,34.64101615137754) -> (60.0,34.64101615137754)\n",
      "(40.0,34.64101615137754) -> (20.0,0.0)\n",
      "(0.0,0.0) -> (40.0,34.64101615137754)\n",
      "(20.0,34.64101615137754) -> (40.0,34.64101615137754)\n",
      "(20.0,34.64101615137754) -> (0.0,0.0)\n",
      "(60.0,34.64101615137754) -> (10.0,17.32050807568877)\n",
      "...\n",
      "Areas 18\n",
      "(60.0,34.64101615137754) - (10.0,17.32050807568877) - (20.0,34.64101615137754)\n",
      "(40.0,34.64101615137754) - (50.0,17.32050807568877) - (60.0,34.64101615137754)\n",
      "(20.0,34.64101615137754) - (30.0,17.32050807568877) - (40.0,34.64101615137754)\n",
      "(50.0,17.32050807568877) - (0.0,0.0) - (10.0,17.32050807568877)\n",
      "(30.0,17.32050807568877) - (40.0,0.0) - (50.0,17.32050807568877)\n",
      "(10.0,17.32050807568877) - (20.0,0.0) - (30.0,17.32050807568877)\n",
      "(40.0,0.0) - (20.0,34.64101615137754) - (0.0,0.0)\n",
      "(20.0,0.0) - (60.0,34.64101615137754) - (40.0,0.0)\n",
      "(0.0,0.0) - (40.0,34.64101615137754) - (20.0,0.0)\n",
      "(60.0,34.64101615137754) - (40.0,0.0) - (20.0,34.64101615137754)\n",
      "...\n",
      "Check vertices True\n",
      "Check edges True\n",
      "Check areas True\n",
      "origin\n",
      "[-120.    0.]\n",
      "step\n",
      "6 4\n",
      "20.000000000000014\n",
      "20.0\n",
      "#CGREZ [-80.          34.64101615] [-60.          34.64101615] [60.         34.64101615]\n",
      "20.000000000000004\n",
      "20.0\n",
      "#CGREZ [-60.          34.64101615] [-50.          17.32050808] [10.         17.32050808]\n",
      "20.00000000000001\n",
      "20.0\n",
      "#CGREZ [-80.          34.64101615] [-70.          17.32050808] [50.         17.32050808]\n",
      "20.000000000000004\n",
      "20.0\n",
      "#CGREZ [-100.           34.64101615] [-90.          17.32050808] [30.         17.32050808]\n",
      "20.000000000000014\n",
      "20.0\n",
      "#CGREZ [-50.          17.32050808] [-30.          17.32050808] [30.         17.32050808]\n",
      "20.000000000000004\n",
      "20.0\n",
      "#CGREZ [-50.          17.32050808] [-40.          34.64101615] [20.         34.64101615]\n",
      "20.000000000000007\n",
      "20.0\n",
      "#CGREZ [-50.          17.32050808] [-40.   0.] [20.  0.]\n"
     ]
    }
   ],
   "source": [
    "%run utilities/graph.py"
   ]
  },
  {
   "cell_type": "code",
   "execution_count": 41,
   "metadata": {},
   "outputs": [
    {
     "data": {
      "text/plain": [
       "True"
      ]
     },
     "execution_count": 41,
     "metadata": {},
     "output_type": "execute_result"
    }
   ],
   "source": [
    "graph2.is_complete()"
   ]
  },
  {
   "cell_type": "code",
   "execution_count": 46,
   "metadata": {},
   "outputs": [
    {
     "name": "stdout",
     "output_type": "stream",
     "text": [
      "Vertices {} 9\n",
      "(60.0,34.64101615137754)\n",
      "(40.0,34.64101615137754)\n",
      "(20.0,34.64101615137754)\n",
      "(50.0,17.32050807568877)\n",
      "(30.0,17.32050807568877)\n",
      "(10.0,17.32050807568877)\n",
      "(40.0,0.0)\n",
      "(20.0,0.0)\n",
      "(0.0,0.0)\n",
      "...\n",
      "Edges 27\n",
      "(40.0,0.0) -> (20.0,34.64101615137754)\n",
      "(60.0,34.64101615137754) -> (20.0,34.64101615137754)\n",
      "(60.0,34.64101615137754) -> (40.0,0.0)\n",
      "(20.0,0.0) -> (60.0,34.64101615137754)\n",
      "(40.0,34.64101615137754) -> (60.0,34.64101615137754)\n",
      "(40.0,34.64101615137754) -> (20.0,0.0)\n",
      "(0.0,0.0) -> (40.0,34.64101615137754)\n",
      "(20.0,34.64101615137754) -> (40.0,34.64101615137754)\n",
      "(20.0,34.64101615137754) -> (0.0,0.0)\n",
      "(60.0,34.64101615137754) -> (10.0,17.32050807568877)\n",
      "...\n",
      "Areas 18\n",
      "(60.0,34.64101615137754) - (10.0,17.32050807568877) - (20.0,34.64101615137754)\n",
      "(40.0,34.64101615137754) - (50.0,17.32050807568877) - (60.0,34.64101615137754)\n",
      "(20.0,34.64101615137754) - (30.0,17.32050807568877) - (40.0,34.64101615137754)\n",
      "(50.0,17.32050807568877) - (0.0,0.0) - (10.0,17.32050807568877)\n",
      "(30.0,17.32050807568877) - (40.0,0.0) - (50.0,17.32050807568877)\n",
      "(10.0,17.32050807568877) - (20.0,0.0) - (30.0,17.32050807568877)\n",
      "(40.0,0.0) - (20.0,34.64101615137754) - (0.0,0.0)\n",
      "(20.0,0.0) - (60.0,34.64101615137754) - (40.0,0.0)\n",
      "(0.0,0.0) - (40.0,34.64101615137754) - (20.0,0.0)\n",
      "(60.0,34.64101615137754) - (40.0,0.0) - (20.0,34.64101615137754)\n",
      "...\n",
      "Check vertices True\n",
      "Check edges True\n",
      "Check areas True\n"
     ]
    },
    {
     "data": {
      "text/plain": [
       "True"
      ]
     },
     "execution_count": 46,
     "metadata": {},
     "output_type": "execute_result"
    }
   ],
   "source": [
    "graph2 = ToricTriangularGraph(3)\n",
    "graph2.is_complete()"
   ]
  },
  {
   "cell_type": "code",
   "execution_count": 49,
   "metadata": {},
   "outputs": [
    {
     "data": {
      "image/png": "[encoded data removed]",
      "text/plain": [
       "<PIL.Image.Image image mode=RGB size=200x200 at 0x122286AEB00>"
      ]
     },
     "execution_count": 49,
     "metadata": {},
     "output_type": "execute_result"
    }
   ],
   "source": [
    "img1 = graph1.draw_img((200,200))\n",
    "img1"
   ]
  },
  {
   "cell_type": "code",
   "execution_count": 48,
   "metadata": {},
   "outputs": [],
   "source": [
    "n = 5\n",
    "for i in range(n):\n",
    "    graph1.gradientDescent(constant = 0.1)"
   ]
  },
  {
   "cell_type": "code",
   "execution_count": 2,
   "metadata": {},
   "outputs": [
    {
     "name": "stdout",
     "output_type": "stream",
     "text": [
      "origin\n",
      "[-120.    0.]\n",
      "step\n",
      "6 4\n",
      "20.000000000000014\n",
      "20.0\n",
      "#CGREZ [-80.          34.64101615] [-60.          34.64101615] [60.         34.64101615]\n",
      "20.000000000000004\n",
      "20.0\n",
      "#CGREZ [-60.          34.64101615] [-50.          17.32050808] [10.         17.32050808]\n",
      "20.00000000000001\n",
      "20.0\n",
      "#CGREZ [-80.          34.64101615] [-70.          17.32050808] [50.         17.32050808]\n",
      "20.000000000000004\n",
      "20.0\n",
      "#CGREZ [-100.           34.64101615] [-90.          17.32050808] [30.         17.32050808]\n",
      "20.000000000000014\n",
      "20.0\n",
      "#CGREZ [-50.          17.32050808] [-30.          17.32050808] [30.         17.32050808]\n",
      "20.000000000000004\n",
      "20.0\n",
      "#CGREZ [-50.          17.32050808] [-40.          34.64101615] [20.         34.64101615]\n",
      "20.000000000000007\n",
      "20.0\n",
      "#CGREZ [-50.          17.32050808] [-40.   0.] [20.  0.]\n"
     ]
    },
    {
     "data": {
      "image/png": "[encoded data removed]",
      "text/plain": [
       "<PIL.Image.Image image mode=RGB size=200x200 at 0x122284BD080>"
      ]
     },
     "execution_count": 2,
     "metadata": {},
     "output_type": "execute_result"
    }
   ],
   "source": [
    "img3, testV1, testV2, sq = graph2.draw_img((200,200))\n",
    "img3"
   ]
  },
  {
   "cell_type": "code",
   "execution_count": 15,
   "metadata": {},
   "outputs": [
    {
     "name": "stdout",
     "output_type": "stream",
     "text": [
      "[-120.           34.64101615]\n"
     ]
    }
   ],
   "source": [
    "print(findClosestRepr(np.array([-110., 17.32050808]), np.array([20., 0.]),  graph2.toSq))"
   ]
  },
  {
   "cell_type": "code",
   "execution_count": 26,
   "metadata": {},
   "outputs": [
    {
     "data": {
      "text/plain": [
       "array([-80.        ,  34.64101615])"
      ]
     },
     "execution_count": 26,
     "metadata": {},
     "output_type": "execute_result"
    }
   ],
   "source": [
    "findClosestRepr(testV1 + 1e-8, testV2, sq)"
   ]
  },
  {
   "cell_type": "code",
   "execution_count": 23,
   "metadata": {},
   "outputs": [
    {
     "data": {
      "text/plain": [
       "array([ 0.00000000e+00, -4.31122871e-09])"
      ]
     },
     "execution_count": 23,
     "metadata": {},
     "output_type": "execute_result"
    }
   ],
   "source": [
    "testV1 == testV1"
   ]
  },
  {
   "cell_type": "code",
   "execution_count": 17,
   "metadata": {},
   "outputs": [
    {
     "data": {
      "text/plain": [
       "array([20.,  0.])"
      ]
     },
     "execution_count": 17,
     "metadata": {},
     "output_type": "execute_result"
    }
   ],
   "source": [
    "testV2"
   ]
  },
  {
   "cell_type": "code",
   "execution_count": 4,
   "metadata": {},
   "outputs": [
    {
     "data": {
      "text/plain": [
       "array([[0, 0],\n",
       "       [2, 2],\n",
       "       [4, 4]])"
      ]
     },
     "execution_count": 4,
     "metadata": {},
     "output_type": "execute_result"
    }
   ],
   "source": [
    "np.arange(6).reshape((3,2)) - np.arange(2)"
   ]
  },
  {
   "cell_type": "code",
   "execution_count": 10,
   "metadata": {},
   "outputs": [
    {
     "name": "stdout",
     "output_type": "stream",
     "text": [
      "[[32  1  2]\n",
      " [ 4  6  8]]\n",
      "[0 1 2]\n"
     ]
    }
   ],
   "source": [
    "a = np.arange(3) \n",
    "b = np.arange(3) * 2 +4 \n",
    "c = np.stack([a, b])\n",
    "c[0][0] = 32\n",
    "print(c)\n",
    "print(a)"
   ]
  }
 ],
 "metadata": {
  "kernelspec": {
   "display_name": "Python 3",
   "language": "python",
   "name": "python3"
  },
  "language_info": {
   "codemirror_mode": {
    "name": "ipython",
    "version": 3
   },
   "file_extension": ".py",
   "mimetype": "text/x-python",
   "name": "python",
   "nbconvert_exporter": "python",
   "pygments_lexer": "ipython3",
   "version": "3.6.5"
  }
 },
 "nbformat": 4,
 "nbformat_minor": 2
}
